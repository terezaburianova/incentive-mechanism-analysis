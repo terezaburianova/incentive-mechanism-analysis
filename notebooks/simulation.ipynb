{
 "cells": [
  {
   "cell_type": "markdown",
   "metadata": {},
   "source": [
    "Imports"
   ]
  },
  {
   "cell_type": "code",
   "execution_count": 9,
   "metadata": {},
   "outputs": [],
   "source": [
    "import os, sys\n",
    "sys.path.insert(1, os.path.realpath(os.path.pardir))\n",
    "from abm1559.utils import (\n",
    "    constants, \n",
    "    set_constants,\n",
    ")\n",
    "from abm1559.txpool import TxPool\n",
    "from abm1559.users import User1559\n",
    "from abm1559.userpool import UserPool\n",
    "from abm1559.chain import (\n",
    "    Chain,\n",
    "    Block1559,\n",
    ")\n",
    "from abm1559.simulator import (\n",
    "    spawn_poisson_demand,\n",
    "    update_basefee,\n",
    ")\n",
    "import pandas as pd\n",
    "import numpy as np\n",
    "import math\n",
    "from ast import literal_eval\n",
    "import matplotlib.pyplot as plt"
   ]
  },
  {
   "cell_type": "code",
   "execution_count": 10,
   "metadata": {},
   "outputs": [],
   "source": [
    "def scale_demand(scenario, divisor):\n",
    "    scale_demand = []\n",
    "    for x in scenario:\n",
    "        scale_demand.append(math.trunc(x/divisor))\n",
    "    return scale_demand"
   ]
  },
  {
   "cell_type": "markdown",
   "metadata": {},
   "source": [
    "Set data"
   ]
  },
  {
   "cell_type": "code",
   "execution_count": 11,
   "metadata": {},
   "outputs": [],
   "source": [
    "FILE_NAME = 'test'\n",
    "set_constants(initial=1 * (10 ** 9), target_gas=1500000, max_gas=3000000, included=100)"
   ]
  },
  {
   "cell_type": "markdown",
   "metadata": {},
   "source": [
    "Main simulation function"
   ]
  },
  {
   "cell_type": "code",
   "execution_count": 12,
   "metadata": {},
   "outputs": [],
   "source": [
    "def simulate(demand_scenario, UserClass):\n",
    "    # Instantiate a couple of things\n",
    "    txpool = TxPool()\n",
    "    basefee = constants[\"INITIAL_BASEFEE\"]\n",
    "    chain = Chain()\n",
    "    metrics = []\n",
    "    user_pool = UserPool()\n",
    "\n",
    "    for t in range(len(demand_scenario)):\n",
    "        if t % 100 == 0: print(t)\n",
    "\n",
    "        # `env` is the \"environment\" of the simulation\n",
    "        env = {\n",
    "            \"basefee\": basefee,\n",
    "            \"current_block\": t,\n",
    "        }\n",
    "\n",
    "        # We return a demand drawn from a Poisson distribution.\n",
    "        # The parameter is given by `demand_scenario[t]`, and can vary\n",
    "        # over time.\n",
    "        users = spawn_poisson_demand(t, demand_scenario[t], UserClass)\n",
    "\n",
    "        # We query each new user with the current basefee value\n",
    "        # Users either return a transaction or None if they prefer to balk\n",
    "        decided_txs = user_pool.decide_transactions(users, env)\n",
    "\n",
    "        # New transactions are added to the transaction pool\n",
    "        txpool.add_txs(decided_txs)\n",
    "\n",
    "        # The best valid transactions are taken out of the pool for inclusion\n",
    "        selected_txs = txpool.select_transactions(env)\n",
    "        txpool.remove_txs([tx.tx_hash for tx in selected_txs])\n",
    "\n",
    "        # We create a block with these transactions\n",
    "        block = Block1559(txs = selected_txs, parent_hash = chain.current_head, height = t, basefee = basefee)\n",
    "\n",
    "        # The block is added to the chain\n",
    "        chain.add_block(block)\n",
    "\n",
    "        # A couple of metrics we will use to monitor the simulation\n",
    "        row_metrics = {\n",
    "            \"block\": t,\n",
    "            \"basefee\": basefee / (10 ** 9),\n",
    "            \"users\": len(users),\n",
    "            \"decided_txs\": len(decided_txs),\n",
    "            \"included_txs\": len(selected_txs),\n",
    "            \"blk_avg_gas_price\": block.average_gas_price(),\n",
    "            \"blk_avg_tip\": block.average_tip(),\n",
    "            \"pool_length\": txpool.pool_length(),\n",
    "        }\n",
    "        metrics.append(row_metrics)\n",
    "\n",
    "        # Finally, basefee is updated and a new round starts\n",
    "        basefee = update_basefee(block, basefee)\n",
    "\n",
    "    return (pd.DataFrame(metrics), user_pool, chain)"
   ]
  },
  {
   "cell_type": "code",
   "execution_count": 13,
   "metadata": {},
   "outputs": [],
   "source": [
    "f = open('../results/demand-scenario01.txt', \"r\")\n",
    "file_content = f.read()\n",
    "f.close()\n",
    "demand_scenario = literal_eval(file_content)\n",
    "# demand_scenario_scaled = scale_demand(demand_scenario, 10)"
   ]
  },
  {
   "cell_type": "code",
   "execution_count": 14,
   "metadata": {},
   "outputs": [
    {
     "data": {
      "image/png": "[encoded data removed]",
      "text/plain": [
       "<Figure size 432x288 with 1 Axes>"
      ]
     },
     "metadata": {
      "needs_background": "light"
     },
     "output_type": "display_data"
    }
   ],
   "source": [
    "sin_len = 0.5\n",
    "points = 140\n",
    "y_axis = 5000\n",
    "length = np.pi * sin_len * 2\n",
    "fluct = y_axis * np.sin(np.arange(0, length, length / points))\n",
    "\n",
    "demand_usual = demand_scenario[2000:3001]\n",
    "demand_usual = scale_demand(demand_usual, 5)\n",
    "\n",
    "demand_fluct = demand_usual[:500]\n",
    "end_value = points-20\n",
    "demand_fluct.extend(fluct[20:end_value])\n",
    "demand_fluct.extend(demand_usual)\n",
    "\n",
    "# Plot demand\n",
    "f, ax = plt.subplots()\n",
    "plt.title('Demand size over time', color='black')\n",
    "plt.plot(demand_fluct)\n",
    "ax.set_xlabel(\"Block height\")\n",
    "ax.set_ylabel(\"Number of new users\")\n",
    "plt.show()\n",
    "\n",
    "resfile = open(\"../results/demand-fluct.txt\", \"w\")\n",
    "resfile.write(str(demand_fluct))\n",
    "resfile.close()"
   ]
  },
  {
   "cell_type": "markdown",
   "metadata": {},
   "source": [
    "Simulation run"
   ]
  },
  {
   "cell_type": "code",
   "execution_count": 15,
   "metadata": {},
   "outputs": [
    {
     "name": "stdout",
     "output_type": "stream",
     "text": [
      "0\n",
      "100\n",
      "200\n",
      "300\n",
      "400\n",
      "500\n",
      "600\n",
      "700\n",
      "800\n",
      "900\n",
      "1000\n",
      "1100\n",
      "1200\n",
      "1300\n",
      "1400\n",
      "1500\n",
      "1600\n"
     ]
    }
   ],
   "source": [
    "(df, user_pool, chain) = simulate(demand_fluct, User1559)"
   ]
  },
  {
   "cell_type": "markdown",
   "metadata": {},
   "source": [
    "Data export"
   ]
  },
  {
   "cell_type": "code",
   "execution_count": 16,
   "metadata": {},
   "outputs": [],
   "source": [
    "filepath = '../results/' + FILE_NAME + '.pkl'\n",
    "df.to_pickle(filepath)"
   ]
  }
 ],
 "metadata": {
  "interpreter": {
   "hash": "916dbcbb3f70747c44a77c7bcd40155683ae19c65e1c03b4aa3499c5328201f1"
  },
  "kernelspec": {
   "display_name": "Python 3.8.5 64-bit",
   "language": "python",
   "name": "python3"
  },
  "language_info": {
   "codemirror_mode": {
    "name": "ipython",
    "version": 3
   },
   "file_extension": ".py",
   "mimetype": "text/x-python",
   "name": "python",
   "nbconvert_exporter": "python",
   "pygments_lexer": "ipython3",
   "version": "3.8.5"
  },
  "orig_nbformat": 4
 },
 "nbformat": 4,
 "nbformat_minor": 2
}
